{
 "cells": [
  {
   "cell_type": "markdown",
   "metadata": {},
   "source": [
    "# Roteiro 4: Estudo da Martiz de Adjacência\n",
    "por: Iury Coelho\n"
   ]
  },
  {
   "cell_type": "markdown",
   "metadata": {},
   "source": [
    "Este notebook faz um estudo sobre a matriz de adjacencia implementada para grafos construidos em python."
   ]
  },
  {
   "cell_type": "markdown",
   "metadata": {},
   "source": [
    "## 1. Entendendo a matriz de adjacência."
   ]
  },
  {
   "cell_type": "markdown",
   "metadata": {},
   "source": [
    "Se G é um grafo com um conjunto de vertices dados por N = {1,2,3,4,...,n}, sua matriz de adjacência é a matriz n x n cujo elemento ij é o número de arestas ligando o vertice i ao vértice J. Para grafos não dirigidos aij=1 se (vi,vj) pertence a N e aij=0 caso contrário. "
   ]
  },
  {
   "cell_type": "markdown",
   "metadata": {},
   "source": [
    "## 2. Desenhando o grafo da Paraiba com a biblioteca networkX."
   ]
  },
  {
   "cell_type": "markdown",
   "metadata": {},
   "source": [
    "Para uma melhor vizualização doa estrutura geométrica do grafo usaremos  a bibliotexa networkX para desenhar o grafo."
   ]
  },
  {
   "cell_type": "code",
   "execution_count": 191,
   "metadata": {},
   "outputs": [],
   "source": [
    "#Importe as bibliotecas necessárias \n",
    "import matplotlib.pyplot as plt\n",
    "import networkx as nx"
   ]
  },
  {
   "cell_type": "code",
   "execution_count": 192,
   "metadata": {},
   "outputs": [],
   "source": [
    "# construa os vértices grafo g\n",
    "g = nx.Graph()\n",
    "g.add_node('J')\n",
    "g.add_node('C')\n",
    "g.add_node('E')\n",
    "g.add_node('P')\n",
    "g.add_node('M')\n",
    "g.add_node('T')\n",
    "g.add_node('Z')\n",
    "\n",
    "\n",
    "# construa as arestas do grafo g\n",
    "\n",
    "g.add_edge('J','C')\n",
    "g.add_edge('C','E')\n",
    "g.add_edge('C','E')\n",
    "g.add_edge('C','P')\n",
    "g.add_edge('C','P')\n",
    "g.add_edge('C','M')\n",
    "g.add_edge('C','T')\n",
    "g.add_edge('M','T')\n",
    "g.add_edge('T','Z')\n",
    "\n"
   ]
  },
  {
   "cell_type": "code",
   "execution_count": 193,
   "metadata": {},
   "outputs": [
    {
     "data": {
      "image/png": "=\n",
      "text/plain": [
       "<Figure size 432x288 with 1 Axes>"
      ]
     },
     "metadata": {
      "needs_background": "light"
     },
     "output_type": "display_data"
    }
   ],
   "source": [
    "# exiba o desenho do grafo da paraiba\n",
    "plt.figure()\n",
    "nx.draw_networkx(g)\n",
    "plt.show()"
   ]
  },
  {
   "cell_type": "markdown",
   "metadata": {},
   "source": [
    "## 3. Analisando a matriz adjacência para o grafo da Praíba"
   ]
  },
  {
   "cell_type": "markdown",
   "metadata": {},
   "source": [
    " A partir do desenho construido na etapa anterior podemos constatar que para o grafo do roteiro 1 com vertices N={J, C, E, P, M, T, Z} e arestas A={J-C, C-E, C-E, C-P,   C-P, C-M, C-T, M-T, T-Z } devemos esperar uma matriz de adjacência igual a:\n",
    " \n",
    "![alt text](image/matrizAdjacencia1.png\"matrizAjacencia\")"
   ]
  },
  {
   "cell_type": "markdown",
   "metadata": {},
   "source": [
    "## 4. Implementando a matriz de adjacência com a biblioteca grafos.py"
   ]
  },
  {
   "cell_type": "code",
   "execution_count": 195,
   "metadata": {},
   "outputs": [],
   "source": [
    "#importação dos módulos necessários\n",
    "from grafo import Grafo\n",
    "\n",
    "#construção do grafo para o estudo de matriz de adjacencia. Utilizaremos o grafo da paraíba do roteiro 1\n",
    "g = Grafo(['J', 'C', 'E', 'P', 'M', 'T', 'Z'], \n",
    "             {'a1':'J-C', 'a2':'C-E', 'a3':'C-E', 'a4':'C-P', 'a5':'C-P', 'a6':'C-M', 'a7':'C-T', 'a8':'M-T', 'a9':'T-Z'})"
   ]
  },
  {
   "cell_type": "code",
   "execution_count": 196,
   "metadata": {},
   "outputs": [
    {
     "name": "stdout",
     "output_type": "stream",
     "text": [
      "J, C, E, P, M, T, Z\n",
      "J-C, C-E, C-E, C-P, C-P, C-M, C-T, M-T, T-Z\n"
     ]
    }
   ],
   "source": [
    "#imprima o grafo g\n",
    "print(g)"
   ]
  },
  {
   "cell_type": "code",
   "execution_count": 24,
   "metadata": {},
   "outputs": [],
   "source": [
    "#contruindo a função que obtém o local dos vertices\n",
    "def LocalVertice(vertice):\n",
    "    '''\n",
    "           Fornece o indice do vertice\n",
    "    '''\n",
    "    indice_v = {}\n",
    "    for i in range(len(vertice)):\n",
    "        indice_v[i] = vertice[i]\n",
    "    return indice_v"
   ]
  },
  {
   "cell_type": "code",
   "execution_count": 19,
   "metadata": {},
   "outputs": [
    {
     "name": "stdout",
     "output_type": "stream",
     "text": [
      "{0: 'J', 1: 'C', 2: 'E', 3: 'P', 4: 'M', 5: 'T', 6: 'Z'}\n"
     ]
    }
   ],
   "source": [
    "#imoprimindo os local dos vertices do grafo g\n",
    "print(LocalVertice(g.N))"
   ]
  },
  {
   "cell_type": "code",
   "execution_count": 20,
   "metadata": {},
   "outputs": [
    {
     "name": "stdout",
     "output_type": "stream",
     "text": [
      "{0: 'J'}\n"
     ]
    }
   ],
   "source": [
    "#imprimindo o indice de um vértice qualquer\n",
    "print(LocalVertice('J'))"
   ]
  },
  {
   "cell_type": "code",
   "execution_count": 198,
   "metadata": {},
   "outputs": [],
   "source": [
    "def Arestas(aresta):\n",
    "    '''\n",
    "           Fornece a lista de arestas\n",
    "    '''\n",
    "    aresta = aresta.values()\n",
    "    listaA = []\n",
    "    for i in aresta:\n",
    "        listaA.append(i)\n",
    "    return listaA"
   ]
  },
  {
   "cell_type": "code",
   "execution_count": 199,
   "metadata": {},
   "outputs": [
    {
     "name": "stdout",
     "output_type": "stream",
     "text": [
      "['J-C', 'C-E', 'C-E', 'C-P', 'C-P', 'C-M', 'C-T', 'M-T', 'T-Z']\n"
     ]
    }
   ],
   "source": [
    "#imprimeindo a lista de arestas\n",
    "print(Arestas(g.A))"
   ]
  },
  {
   "cell_type": "code",
   "execution_count": 200,
   "metadata": {},
   "outputs": [],
   "source": [
    "def MatrizAdjacencia(localdovertice, arestas):\n",
    "    '''\n",
    "           Fornece uma matriz de adjacencia\n",
    "           recebe os locais do vertice obtido por g.N e a lista de aresta obtido g.A\n",
    "    '''\n",
    "    matrizadjacente = []\n",
    "    #construção da matrizadacente\n",
    "    for i in range(len(localdovertice.keys())):\n",
    "        matrizadjacente.append([])        \n",
    "        for j in range(len(localdovertice.keys())):\n",
    "            matrizadjacente[i].append(arestas.count((\n",
    "                 localdovertice[i] + \"-\" +\n",
    "                 localdovertice[j])) or \n",
    "                 arestas.count((localdovertice[j] + \"-\" + \n",
    "                 localdovertice[i])))\n",
    "            \n",
    "    return matrizadjacente"
   ]
  },
  {
   "cell_type": "code",
   "execution_count": 201,
   "metadata": {},
   "outputs": [
    {
     "name": "stdout",
     "output_type": "stream",
     "text": [
      "MATRIZ ADJACENCIA\n",
      "[[0, 1, 0, 0, 0, 0, 0], [1, 0, 2, 2, 1, 1, 0], [0, 2, 0, 0, 0, 0, 0], [0, 2, 0, 0, 0, 0, 0], [0, 1, 0, 0, 0, 1, 0], [0, 1, 0, 0, 1, 0, 1], [0, 0, 0, 0, 0, 1, 0]]\n"
     ]
    }
   ],
   "source": [
    "print(\"MATRIZ ADJACENCIA\")\n",
    "matrizA = MatrizAdjacencia(LocalVertice(g.N),Arestas(g.A))\n",
    "print(matrizA)\n",
    "\n"
   ]
  },
  {
   "cell_type": "markdown",
   "metadata": {},
   "source": [
    "## 5. Exibindo a representação bidirecional da matriz de adjacência."
   ]
  },
  {
   "cell_type": "code",
   "execution_count": 204,
   "metadata": {},
   "outputs": [
    {
     "data": {
      "text/plain": [
       "[[0, 1, 0, 0, 0, 0, 0],\n",
       " [1, 0, 2, 2, 1, 1, 0],\n",
       " [0, 2, 0, 0, 0, 0, 0],\n",
       " [0, 2, 0, 0, 0, 0, 0],\n",
       " [0, 1, 0, 0, 0, 1, 0],\n",
       " [0, 1, 0, 0, 1, 0, 1],\n",
       " [0, 0, 0, 0, 0, 1, 0]]"
      ]
     },
     "execution_count": 204,
     "metadata": {},
     "output_type": "execute_result"
    }
   ],
   "source": [
    "MatrizAdjacencia(LocalVertice(g.N),Arestas(g.A))\n"
   ]
  },
  {
   "cell_type": "code",
   "execution_count": null,
   "metadata": {},
   "outputs": [],
   "source": []
  }
 ],
 "metadata": {
  "kernelspec": {
   "display_name": "Python 3",
   "language": "python",
   "name": "python3"
  },
  "language_info": {
   "codemirror_mode": {
    "name": "ipython",
    "version": 3
   },
   "file_extension": ".py",
   "mimetype": "text/x-python",
   "name": "python",
   "nbconvert_exporter": "python",
   "pygments_lexer": "ipython3",
   "version": "3.7.4"
  }
 },
 "nbformat": 4,
 "nbformat_minor": 2
}
