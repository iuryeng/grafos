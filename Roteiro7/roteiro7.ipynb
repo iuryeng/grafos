{
 "cells": [
  {
   "cell_type": "markdown",
   "metadata": {},
   "source": [
    "## Roteiro 7\n",
    "por Iury Coelho\n"
   ]
  },
  {
   "cell_type": "markdown",
   "metadata": {},
   "source": [
    "Este notebook pretende explorar o algorítimo de Dijkstra em python. O algorítimo de Dijkstra  permite solucionar o problema do caminho mais curto. Ele é capaz, através de um grafo dirigido ou ão, com arestas de pesos não negativos, encontrar o caminho mais curto entre um dado vertice e outro."
   ]
  },
  {
   "cell_type": "markdown",
   "metadata": {},
   "source": [
    "## Algorítmo de Dijkstra "
   ]
  },
  {
   "cell_type": "markdown",
   "metadata": {},
   "source": [
    "De acordo com o Wikipédia o algorímo de Dijkstra segue os passos a seguir:\n",
    "\n",
    "> 1. Iniciar os valores do grafo:\n",
    "     \n",
    "     para todo v ∈ V[G]\n",
    "     d[v] ← ∞\n",
    "     π[v] ← -1\n",
    "     d[s] ← 0\n",
    "     \n",
    "   - Onde  V[G] é o conjunto de vértices(v) que formam o Grafo G. d[v] é o vetor de distâncias de s até cada v. Admitindo-se a      pior estimativa possível, o caminho infinito. π[v] identifica o vértice de onde se origina uma conexão até v de maneira a      formar um caminho mínimo.\n",
    "   \n",
    "> 2. usar o conjunto Q, cujos vértices ainda não contém o custo do menor caminho d[v] determinado.\n",
    "   \n",
    "      Q ← V[G]\n",
    "\n",
    "> 3. realizamos uma série de relaxamentos das arestas, de acordo com o código:\n",
    "      \n",
    "      enquanto Q ≠ ø\n",
    "         u ← extrair-mín(Q)                     //Q ← Q - {u}\n",
    "         para cada v adjacente a u\n",
    "              se d[v] > d[u] + peso(u, v)          //relaxe (u, v)\n",
    "                 então d[v] ← d[u] + peso(u, v)\n",
    "                       π[v] ← u\n",
    "   - peso(u, v) é o peso da aresta que vai de u a v. u e v são vértices quaisquer e s é o vértice inicial. ffd extrair-mín(Q),      pode usar um heap de mínimo ou uma lista de vértices onde se extrai o elemento u com menor valor d[u]. "
   ]
  },
  {
   "cell_type": "markdown",
   "metadata": {},
   "source": [
    "### Atividade do roteiro 7"
   ]
  },
  {
   "cell_type": "markdown",
   "metadata": {},
   "source": [
    "\n",
    "Neste roteiro vamos implementar uma versão modificada do algoritmo de Dijkstra. O objetivo é levar um drone de um ponto de um mapa até outro ponto do mesmo mapa. O mapa será representado por um grafo e sua tarefa é encontrar o menor caminho que o drone deve fazer para chegar ao seu destino. No entanto, o drone tem uma carga limitada de bateria e ele pode precisar recarregá-la de tempos em tempos. O problema é que no mapa só há alguns pontos de recarga. Dessa forma, o drone precisa achar o menor caminho que lhe garanta uma carga de bateria suficiente para chegar até o fim. Se não for possível chegar até o fim, você deve informar isso ao usuário.\n",
    "\n",
    "Estabelecido o cenário, implemente uma função que recebe os seguintes parâmetros:\n",
    "- O vértice de onde o drone deve partir\n",
    "- O vértice onde o drone deve chegar\n",
    "- A carga inicial da bateria\n",
    "- A carga máxima da bateria\n",
    "- Uma lista de vértices que indicam os pontos de recarga\n",
    "\n",
    "Considere o seguinte:\n",
    "- Cada aresta consome 1 ponto da carga da bateria\n",
    "- Sempre que um drone para em uma estação de recarga ele recarrega a bateria por inteiro\n"
   ]
  },
  {
   "cell_type": "code",
   "execution_count": 34,
   "metadata": {},
   "outputs": [],
   "source": [
    "def dijkstra(ver, a, u, v):\n",
    "   \n",
    "    b = {}\n",
    "    pi = {}\n",
    "    p = {}       \n",
    "    \n",
    "    for i in range(len(ver)):\n",
    "        b[ver[i]] = float('inf')\n",
    "        p[ver[i]] = 0\n",
    "        pi[ver[i]] = 0 \n",
    "        \n",
    "    z = u\n",
    "    p[u] = 1\n",
    "    pi[u] = \"-\"\n",
    "    b[u] = 0\n",
    "    pesquisa = 0  \n",
    "   \n",
    "    while (z != v):\n",
    "        pesquisa2 = 0\n",
    "        for ligacoes in a:\n",
    "            if (ligacoes[0] == z):\n",
    "                if p[ligacoes[2]] == 0 and b[ligacoes[2]] > b[z] + 1:\n",
    "                    b[ligacoes[2]] = b[z] + 1\n",
    "                    pi[ligacoes[2]] = z\n",
    "                    pesquisa2 += 1\n",
    "\n",
    "       \n",
    "        b_menor = float('inf')\n",
    "        for no in ver:\n",
    "            if p[no] == 0 and b[no] < float('inf'):\n",
    "                if b[no] < b_menor:\n",
    "                    b_menor = b[no]\n",
    "\n",
    "        if pesquisa2 == 0 and b_menor == float('inf'):\n",
    "            pesquisa += 1\n",
    "            break\n",
    "\n",
    "        for no in ver:\n",
    "            if b[no] == b_menor and p[no] == 0 and b[no] < float('inf'):\n",
    "                p[no] = 1\n",
    "                z = no\n",
    "                break\n",
    "\n",
    "    if pesquisa == 1:\n",
    "        return False\n",
    "    else:       \n",
    "        novo = v\n",
    "        conj = []\n",
    "        while novo != u:\n",
    "            for aaa in pi:\n",
    "                if aaa == novo:\n",
    "                    conj.append(novo)\n",
    "                    novo = pi[novo]\n",
    "                    break\n",
    "                    \n",
    "        conj.append(novo)\n",
    "\n",
    "        return len(conj) - 1, conj[::-1]\n"
   ]
  },
  {
   "cell_type": "code",
   "execution_count": 70,
   "metadata": {},
   "outputs": [],
   "source": [
    "\n",
    "def dijkstraRota(ver, a, u, v, carga, recarregar):\n",
    "    comerco = u\n",
    "    recarregar.insert(0, u)\n",
    "    recarregar.append(v)\n",
    "\n",
    "    caminhos = {}\n",
    "\n",
    "    for i in range(len(recarregar)):\n",
    "        for j in range(len(recarregar)):\n",
    "            if u == recarregar[j] or dijkstra(ver, a, u, recarregar[j]) == False:\n",
    "                continue\n",
    "            trajeto  = dijkstra(ver, a, u, recarregar[j])[0]\n",
    "            if trajeto <= carga:\n",
    "                caminhos[u + \"-\" + recarregar[j]] = trajeto \n",
    "        u = recarregar[i]\n",
    "        if i > 0:\n",
    "            carga = 5\n",
    "\n",
    "    lista = dijkstra(recarregar, caminhos, comerco, v)\n",
    "\n",
    "    if lista == False:\n",
    "        return \"Sem trajetos possíveis !!\"\n",
    "\n",
    "    trajetofim = []\n",
    "    for i in range(len(lista[1])-1):\n",
    "        trajetofim.append(dijkstra(ver, a, lista[1][i], lista[1][i+1])[1])\n",
    "\n",
    "    fim = []\n",
    "\n",
    "    for i in range(len(trajetofim)):\n",
    "        for j in range(len(trajetofim[i])):\n",
    "            if (trajetofim[i][j] not in fim):\n",
    "                fim.append(trajetofim[i][j])\n",
    "\n",
    "    return fim\n",
    "\n",
    "\n",
    "\n"
   ]
  },
  {
   "cell_type": "code",
   "execution_count": 71,
   "metadata": {},
   "outputs": [
    {
     "name": "stdout",
     "output_type": "stream",
     "text": [
      "teste 1: ['a', 'b', 'c', 'e', 'f', 'g', 'j', 'm']\n",
      "teste 2: Sem trajetos possíveis !!\n"
     ]
    }
   ],
   "source": [
    "\n",
    "\n",
    "\n",
    "caminhos = {\"a-b\": 1, \"b-c\": 1, \"c-d\": 1, \"c-e\": 1, \"d-g\": 1, \"e-f\": 1, \"f-h\": 1, \"f-g\": 1, \"g-h\": 1, \"g-j\": 1, \"j-m\": 1,\n",
    "           \"j-l\": 1, \"i-e\": 1, \"i-l\": 1, \"i-k\": 1, \"k-l\": 1}\n",
    "\n",
    "pontos = [\"a\", \"b\", \"c\", \"d\", \"e\", \"f\", \"g\", \"h\", \"i\", \"j\", \"K\", \"l\", \"m\"]\n",
    "\n",
    "#Exemplo teste1\n",
    "#recarga ['e', 'j', 'l', 'a']\n",
    "# carga: 4\n",
    "\n",
    "print(\"teste 1:\", dijkstraRota(pontos, caminhos, \"a\", \"m\", 4, ['e', 'j', 'l', 'a']))\n",
    "print(\"teste 2:\", dijkstraRota(vertices, arestas, \"a\", \"k\", 1, ['e', 'a']))\n"
   ]
  },
  {
   "cell_type": "code",
   "execution_count": null,
   "metadata": {},
   "outputs": [],
   "source": []
  }
 ],
 "metadata": {
  "kernelspec": {
   "display_name": "Python 3",
   "language": "python",
   "name": "python3"
  },
  "language_info": {
   "codemirror_mode": {
    "name": "ipython",
    "version": 3
   },
   "file_extension": ".py",
   "mimetype": "text/x-python",
   "name": "python",
   "nbconvert_exporter": "python",
   "pygments_lexer": "ipython3",
   "version": "3.7.4"
  }
 },
 "nbformat": 4,
 "nbformat_minor": 2
}
