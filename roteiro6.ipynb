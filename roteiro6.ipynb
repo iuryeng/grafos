{
 "cells": [
  {
   "cell_type": "markdown",
   "metadata": {},
   "source": [
    "# Roteiro5: Algorítmo de Warshall\n",
    "por: Iury Coelho"
   ]
  },
  {
   "cell_type": "markdown",
   "metadata": {},
   "source": [
    "Este notebook constroi um programa para encontrar a matriz de alcançabilidade de um grafo usando o algoritmo de Warshall tomando como base o grafo da figura abaixo:\n"
   ]
  },
  {
   "cell_type": "markdown",
   "metadata": {},
   "source": [
    "![alt text](image/grafoRoteiro2.png \"Grafo do roteiro 2\")"
   ]
  },
  {
   "cell_type": "markdown",
   "metadata": {},
   "source": [
    "De acordo com a Wikpedia o algorítimo de Warshall é um algoritmo que resolve o problema de calcular o caminho mais curto entre todos os pares de vértices em um grafo orientado (com direção) e valorado (com peso). Para esta aplicação retornaremos o valor 1 se existe um caminho entre um vertice e outro"
   ]
  },
  {
   "cell_type": "code",
   "execution_count": 158,
   "metadata": {},
   "outputs": [
    {
     "name": "stdout",
     "output_type": "stream",
     "text": [
      "A, B, C, D, E, F, G, H, I, J, K\n",
      "A-B, A-G, A-J, K-G, K-J, J-G, J-I, G-I, G-H, H-F, B-F, B-G, B-C, D-C, D-E, D-B, E-B\n"
     ]
    }
   ],
   "source": [
    "#Importe as bibliotecas necessárias \n",
    "from grafo import Grafo\n",
    "\n",
    "# construa o grafo g\n",
    "g= Grafo(['A', 'B', 'C', 'D', 'E', 'F', 'G', 'H', 'I', 'J', 'K'], \n",
    "             {'1':'A-B', \n",
    "              '2':'A-G', \n",
    "              '3':'A-J', \n",
    "              '4':'K-G', \n",
    "              '5':'K-J', \n",
    "              '6':'J-G', \n",
    "              '7':'J-I', \n",
    "              '8':'G-I', \n",
    "              '9':'G-H',\n",
    "              '10':'H-F', \n",
    "              '11':'B-F', \n",
    "              '12':'B-G', \n",
    "              '13':'B-C', \n",
    "              '14':'D-C',\n",
    "              '15':'D-E',\n",
    "              '16':'D-B',\n",
    "              '17':'E-B',\n",
    "              \n",
    "             })\n",
    "\n",
    "# exiba o grafo construido\n",
    "print(g)"
   ]
  },
  {
   "cell_type": "code",
   "execution_count": 159,
   "metadata": {},
   "outputs": [],
   "source": [
    "def arestas_sobre_vertice(self, vertice):\n",
    "    \n",
    "    arestas = self.A.values()\n",
    "    no = vertice\n",
    "    chave = self.A.keys()\n",
    "    p = []\n",
    "    incidente = \" \"\n",
    "    contador = 0\n",
    "\n",
    "    for i in chave:\n",
    "        p.append(i)\n",
    "\n",
    "    for j in arestas:\n",
    "        z = j\n",
    "        if no == z[0] and z[0] != z[2]:\n",
    "            incidente += \"{\"\n",
    "            incidente += p[contador]\n",
    "            incidente += \"}: \"\n",
    "            incidente += z\n",
    "            incidente += \"\\n\"\n",
    "\n",
    "        if no == z[2] and z[2] != z[0]:\n",
    "            incidente += \"{\"\n",
    "            incidente += p[contador]\n",
    "            incidente += \"}: \"\n",
    "            incidente += z\n",
    "            incidente += \"\\n \"\n",
    "\n",
    "        contador += 1\n",
    "\n",
    "    return incidente"
   ]
  },
  {
   "cell_type": "code",
   "execution_count": 160,
   "metadata": {},
   "outputs": [
    {
     "name": "stdout",
     "output_type": "stream",
     "text": [
      " {3}: A-J\n",
      " {5}: K-J\n",
      " {6}: J-G\n",
      "{7}: J-I\n",
      "\n"
     ]
    }
   ],
   "source": [
    "print(arestas_sobre_vertice(g,'J'))"
   ]
  },
  {
   "cell_type": "code",
   "execution_count": 161,
   "metadata": {},
   "outputs": [],
   "source": [
    "def vertices_adjacentes(self):\n",
    "    vertices = g.N\n",
    "    arestas = g.A.values()\n",
    "    completo = []\n",
    "    resultado = \" \"\n",
    "\n",
    "    for x in vertices:\n",
    "        for z in vertices:\n",
    "            if (x + \"-\" + z) not in arestas and (z + \"-\" + x) not in arestas :\n",
    "                if x != z:\n",
    "                    if (z + \"-\" + x) not in completo :\n",
    "                        completo.append(x + \"-\" + z)\n",
    "                        resultado += (\"\\n\" + x + \"-\" + z)\n",
    "\n",
    "    return resultado"
   ]
  },
  {
   "cell_type": "code",
   "execution_count": 162,
   "metadata": {},
   "outputs": [
    {
     "name": "stdout",
     "output_type": "stream",
     "text": [
      " \n",
      "A-C\n",
      "A-D\n",
      "A-E\n",
      "A-F\n",
      "A-H\n",
      "A-I\n",
      "A-K\n",
      "B-H\n",
      "B-I\n",
      "B-J\n",
      "B-K\n",
      "C-E\n",
      "C-F\n",
      "C-G\n",
      "C-H\n",
      "C-I\n",
      "C-J\n",
      "C-K\n",
      "D-F\n",
      "D-G\n",
      "D-H\n",
      "D-I\n",
      "D-J\n",
      "D-K\n",
      "E-F\n",
      "E-G\n",
      "E-H\n",
      "E-I\n",
      "E-J\n",
      "E-K\n",
      "F-G\n",
      "F-I\n",
      "F-J\n",
      "F-K\n",
      "H-I\n",
      "H-J\n",
      "H-K\n",
      "I-K\n"
     ]
    }
   ],
   "source": [
    "print(vertices_adjacentes(g))"
   ]
  },
  {
   "cell_type": "code",
   "execution_count": 173,
   "metadata": {},
   "outputs": [],
   "source": [
    "def Arestas(aresta):\n",
    "    '''\n",
    "           Fornece a lista de arestas\n",
    "    '''\n",
    "    aresta = aresta.values()\n",
    "    listaA = []\n",
    "    for i in aresta:\n",
    "        listaA.append(i)\n",
    "    return listaA"
   ]
  },
  {
   "cell_type": "code",
   "execution_count": 174,
   "metadata": {},
   "outputs": [],
   "source": [
    "def LocalVertice(vertice):\n",
    "    '''\n",
    "           Fornece o indice do vertice\n",
    "    '''\n",
    "    indice_v = {}\n",
    "    for i in range(len(vertice)):\n",
    "        indice_v[i] = vertice[i]\n",
    "    return indice_v"
   ]
  },
  {
   "cell_type": "code",
   "execution_count": 175,
   "metadata": {},
   "outputs": [],
   "source": [
    "def MatrizAdjacencia(localdovertice, arestas):\n",
    "    '''\n",
    "           Fornece uma matriz de adjacencia\n",
    "           recebe os locais do vertice obtido por g.N e a lista de aresta obtido g.A\n",
    "    '''\n",
    "    matrizadjacente = []\n",
    "    #construção da matrizadacente\n",
    "    for i in range(len(localdovertice.keys())):\n",
    "        matrizadjacente.append([])        \n",
    "        for j in range(len(localdovertice.keys())):\n",
    "            matrizadjacente[i].append(arestas.count((\n",
    "                 localdovertice[i] + \"-\" +\n",
    "                 localdovertice[j])) or \n",
    "                 arestas.count((localdovertice[j] + \"-\" + \n",
    "                 localdovertice[i])))\n",
    "            \n",
    "    return matrizadjacente"
   ]
  },
  {
   "cell_type": "markdown",
   "metadata": {},
   "source": [
    "A matriz Warshall é obtida a partir da matriz de adjacencia"
   ]
  },
  {
   "cell_type": "code",
   "execution_count": 176,
   "metadata": {},
   "outputs": [],
   "source": [
    "def Warshall(matriz_w):\n",
    "    matriz_warshall = matriz_w     \n",
    "        \n",
    "    for i in range(len(matriz_warshall)):\n",
    "        for j in range(len(matriz_warshall)):\n",
    "            if matriz_warshall[i][j] == 1:\n",
    "                for k in range(len(matriz_warshall)):\n",
    "                    if matriz_warshall[j][k] != 0 or matriz_warshall[i][k] != 0:\n",
    "                        add = 1 \n",
    "                        matriz_warshall[j][k] = add\n",
    "                    else:\n",
    "                        add = 0\n",
    "                        matriz_warshall[j][k] = add\n",
    "    return matriz_warshall"
   ]
  },
  {
   "cell_type": "code",
   "execution_count": 177,
   "metadata": {},
   "outputs": [
    {
     "data": {
      "text/plain": [
       "[[1, 1, 1, 1, 1, 1, 1, 1, 1, 1, 1],\n",
       " [1, 1, 1, 1, 1, 1, 1, 1, 1, 1, 1],\n",
       " [1, 1, 1, 1, 1, 1, 1, 1, 1, 1, 1],\n",
       " [1, 1, 1, 1, 1, 1, 1, 1, 1, 1, 1],\n",
       " [1, 1, 1, 1, 1, 1, 1, 1, 1, 1, 1],\n",
       " [1, 1, 1, 1, 1, 1, 1, 1, 1, 1, 1],\n",
       " [1, 1, 1, 1, 1, 1, 1, 1, 1, 1, 1],\n",
       " [1, 1, 1, 1, 1, 1, 1, 1, 1, 1, 1],\n",
       " [1, 1, 1, 1, 1, 1, 1, 1, 1, 1, 1],\n",
       " [1, 1, 1, 1, 1, 1, 1, 1, 1, 1, 1],\n",
       " [1, 1, 1, 1, 1, 1, 1, 1, 1, 1, 1]]"
      ]
     },
     "execution_count": 177,
     "metadata": {},
     "output_type": "execute_result"
    }
   ],
   "source": [
    "Warshall(MatrizAdjacencia(LocalVertice(g.N),Arestas(g.A)))"
   ]
  },
  {
   "cell_type": "code",
   "execution_count": null,
   "metadata": {},
   "outputs": [],
   "source": []
  }
 ],
 "metadata": {
  "kernelspec": {
   "display_name": "Python 3",
   "language": "python",
   "name": "python3"
  },
  "language_info": {
   "codemirror_mode": {
    "name": "ipython",
    "version": 3
   },
   "file_extension": ".py",
   "mimetype": "text/x-python",
   "name": "python",
   "nbconvert_exporter": "python",
   "pygments_lexer": "ipython3",
   "version": "3.7.4"
  }
 },
 "nbformat": 4,
 "nbformat_minor": 2
}
