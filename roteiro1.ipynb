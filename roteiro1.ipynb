{
 "cells": [
  {
   "cell_type": "markdown",
   "metadata": {},
   "source": [
    "# Roteiro1: Familiarização com a biblioteca grafos.py\n",
    "por: Iury Coelho\n",
    "\n"
   ]
  },
  {
   "cell_type": "markdown",
   "metadata": {},
   "source": [
    "Este notebook abrange o processamento de funções sujeridas nas atividades do roteiro 1 da disciplina teoria dos grafos do curso de engenharia da computação do - IFPB. A partir da representação de um grafo construido sob a pespectiva do mapa da Paraíba são apresentadas instruções pertinentes à teoria dos grafos. Outrossim é a utilização da biblioteca networkX para exibir o desenho do gráfo e assim melhor favorecer o entendimento a paritr de uma representação geometrica."
   ]
  },
  {
   "cell_type": "markdown",
   "metadata": {},
   "source": [
    "# 1. Grafo da Paraíba\n",
    "\n",
    "\n",
    "![alt text](image/grafoPb.png \"Grafo da Paraíba\")\n",
    "\n",
    "\n",
    "\n",
    "\n"
   ]
  },
  {
   "cell_type": "markdown",
   "metadata": {},
   "source": [
    "\n",
    "No exemplo acima, os vértices representam cidades e as arestas indicam se é possível chegar a outra cidade por uma estrada.\n",
    "Dessa forma, esse grafo pode ser escrito da seguinte forma:\n",
    "N = {J, C, E, P, M, T, Z}\n",
    "A = {a1, a2, a3, a4, a5, a6, a7, a8, a9}\n",
    "g(a1) = JC, g(a2) = CE, g(a3) = CE, \n",
    "g(a4) = CP, g(a5) = CP, g(a6) = CM, g(a7) = CT, g(a8) = MT, g(a9) = TZ"
   ]
  },
  {
   "cell_type": "markdown",
   "metadata": {},
   "source": [
    "# 2. Construindo o grafo da Paraíba \n",
    "A partir das informações acima, contrua o grafo da Paraíba usando o módulo grafo.py e imprima-o na saída padrão."
   ]
  },
  {
   "cell_type": "code",
   "execution_count": 229,
   "metadata": {},
   "outputs": [],
   "source": [
    "#Importe as bibliotecas necessárias \n",
    "from grafo import Grafo\n"
   ]
  },
  {
   "cell_type": "code",
   "execution_count": 402,
   "metadata": {},
   "outputs": [],
   "source": [
    "# construa o grafo g_pb\n",
    "g_pb = Grafo(['J', 'C', 'E', 'P', 'M', 'T', 'Z'], \n",
    "             {'a1':'J-C', 'a2':'C-E', 'a3':'C-E', 'a4':'C-P', 'a5':'C-P', 'a6':'C-M', 'a7':'C-T', 'a8':'M-T', 'a9':'T-Z'})\n"
   ]
  },
  {
   "cell_type": "code",
   "execution_count": 383,
   "metadata": {},
   "outputs": [
    {
     "name": "stdout",
     "output_type": "stream",
     "text": [
      "J, C, E, P, M, T, Z\n",
      "J-C, C-E, C-E, C-P, C-P, C-M, C-T, M-T, T-Z\n"
     ]
    }
   ],
   "source": [
    "# exiba o grafo construido\n",
    "print(g_pb)"
   ]
  },
  {
   "cell_type": "markdown",
   "metadata": {},
   "source": [
    "# 3. Desenhando o grafo da Paraiba\n",
    "Desenhe o grafo da paraiba usando a biblioteca networkx"
   ]
  },
  {
   "cell_type": "code",
   "execution_count": 301,
   "metadata": {},
   "outputs": [
    {
     "data": {
      "image/png": "[encoded data removed]",
      "text/plain": [
       "<Figure size 432x288 with 1 Axes>"
      ]
     },
     "metadata": {
      "needs_background": "light"
     },
     "output_type": "display_data"
    }
   ],
   "source": [
    "#importe as bibliotecas\n",
    "\n",
    "import matplotlib.pyplot as plt\n",
    "import networkx as nx\n",
    "\n",
    "# construa os vértices grafo_pb\n",
    "grafo_pb = nx.Graph()\n",
    "grafo_pb.add_node('J')\n",
    "grafo_pb.add_node('C')\n",
    "grafo_pb.add_node('E')\n",
    "grafo_pb.add_node('P')\n",
    "grafo_pb.add_node('M')\n",
    "grafo_pb.add_node('T')\n",
    "grafo_pb.add_node('Z')\n",
    "\n",
    "\n",
    "# construa as arestas do grafo_pb\n",
    "\n",
    "grafo_pb.add_edge('J','C')\n",
    "grafo_pb.add_edge('C','E')\n",
    "grafo_pb.add_edge('C','E')\n",
    "grafo_pb.add_edge('C','P')\n",
    "grafo_pb.add_edge('C','P')\n",
    "grafo_pb.add_edge('C','M')\n",
    "grafo_pb.add_edge('C','T')\n",
    "grafo_pb.add_edge('M','T')\n",
    "grafo_pb.add_edge('T','Z')\n",
    "\n",
    "# exiba o desenho do grafo\n",
    "plt.figure()\n",
    "nx.draw_networkx(grafo_pb)\n",
    "plt.show()\n"
   ]
  },
  {
   "cell_type": "markdown",
   "metadata": {},
   "source": [
    "# 4. Pares de vértices não adjacentes \n",
    "Crie uma  função em python que encontre todos os pares de vértices não adjacentes"
   ]
  },
  {
   "cell_type": "code",
   "execution_count": 384,
   "metadata": {},
   "outputs": [],
   "source": [
    "#Crie a função para verificar vertices não adjacentes\n",
    "def vertices_nao_adjacentes(self):\n",
    "    '''\n",
    "    Verifica os vertices não adjacentes\n",
    "            '''\n",
    "    completo = []\n",
    "    nao_adj = []\n",
    "    resultado = \" \"\n",
    "\n",
    "    for x in self.N:\n",
    "        for z in self.N:\n",
    "            if (x + \"-\" + z) not in self.A.values() and (z + \"-\" + x) not in self.A.values() :\n",
    "                if x != z:\n",
    "                    if (z + \"-\" + x) not in completo :\n",
    "                        completo.append(x + \"-\" + z)\n",
    "                        resultado += (\"\\n\" + x + \"-\" + z)\n",
    "    return resultado\n",
    "    \n"
   ]
  },
  {
   "cell_type": "code",
   "execution_count": 385,
   "metadata": {},
   "outputs": [
    {
     "name": "stdout",
     "output_type": "stream",
     "text": [
      " \n",
      "J-E\n",
      "J-P\n",
      "J-M\n",
      "J-T\n",
      "J-Z\n",
      "C-Z\n",
      "E-P\n",
      "E-M\n",
      "E-T\n",
      "E-Z\n",
      "P-M\n",
      "P-T\n",
      "P-Z\n",
      "M-Z\n"
     ]
    }
   ],
   "source": [
    "# Imprima os vertices não adjacentes do grafo\n",
    "print(vertices_nao_adjacentes(g_pb))"
   ]
  },
  {
   "cell_type": "markdown",
   "metadata": {},
   "source": [
    "# 5. Vértice adjacente a ele mesmo\n",
    "Em teoria dos grafos, um vértice 'A' é adjacente a um vétice 'B' se eles estiverem ligados por uma aresta. Ainda, existe o caso especial em que um vértice é adjacente a ele mesmo, chamamos de laço. Um laço une um vértice a ele próprio;\n"
   ]
  },
  {
   "cell_type": "markdown",
   "metadata": {},
   "source": [
    "Crie uma função que verifique se o grafo possui algum vértice que  é adjacente a ele mesmo? (Retorne True ou False)\n"
   ]
  },
  {
   "cell_type": "code",
   "execution_count": 223,
   "metadata": {},
   "outputs": [],
   "source": [
    "def ha_laco(self):\n",
    "\n",
    "    for i in self.A.values():\n",
    "        p = i.split(\"-\")\n",
    "        if p[0] == p[1]:\n",
    "            return False\n",
    "            break\n",
    "    return True"
   ]
  },
  {
   "cell_type": "code",
   "execution_count": 224,
   "metadata": {},
   "outputs": [
    {
     "data": {
      "text/plain": [
       "True"
      ]
     },
     "execution_count": 224,
     "metadata": {},
     "output_type": "execute_result"
    }
   ],
   "source": [
    "ha_laco(g_pb)"
   ]
  },
  {
   "cell_type": "markdown",
   "metadata": {},
   "source": [
    "# 6. Arestas paralelas\n",
    "Quando uma duas ou mais arestas possuim o mesmo vértice-inicial 'A' e o mesmo vértice final 'B', elas são ditas paralelas.\n"
   ]
  },
  {
   "cell_type": "markdown",
   "metadata": {},
   "source": [
    "![alt text](image/arestaParalela.png \"Dois vértices ligados por arestas paralelas\")"
   ]
  },
  {
   "cell_type": "markdown",
   "metadata": {},
   "source": [
    "Crie uma função que reitorne True se o grafo possui arestas paralelas e false caso não possua"
   ]
  },
  {
   "cell_type": "code",
   "execution_count": 397,
   "metadata": {},
   "outputs": [],
   "source": [
    "def ha_paralelas(self):\n",
    "    num_arestas = len(self.A.values())\n",
    "    lista_arestas = list(self.A.values())\n",
    "    if ( num_arestas != 0 ):\n",
    "        for i in range(num_arestas):\n",
    "            x = lista_arestas[i]\n",
    "            z = x[::-1]\n",
    "            for j in lista_arestas:\n",
    "                if ((j == z) or (lista_arestas.count(x) > 1)):\n",
    "                    return True\n",
    "        return False\n",
    "    else:\n",
    "        return False"
   ]
  },
  {
   "cell_type": "code",
   "execution_count": 410,
   "metadata": {},
   "outputs": [
    {
     "name": "stdout",
     "output_type": "stream",
     "text": [
      "False\n",
      "True\n"
     ]
    }
   ],
   "source": [
    "# analise um grafo sem arestas paralas de teste\n",
    "g_pb_1 = Grafo(['J', 'C', 'E', 'P', 'M', 'T', 'Z'], {'a1': 'J-C', 'a3': 'C-E', 'a4': 'C-P', 'a6': 'C-M', 'a7': 'C-T', 'a8': 'M-T', 'a9': 'T-Z'})\n",
    "print(ha_paralelas(g_pb_1))\n",
    "\n",
    "#imprima o grafo da Paraíba\n",
    "print(ha_paralelas(g_pb))\n"
   ]
  },
  {
   "cell_type": "markdown",
   "metadata": {},
   "source": [
    "# 7. Grau de um vértice \n",
    "O grau de um vértice é definido como a quantidade de seus vértices adjacentes.\n"
   ]
  },
  {
   "cell_type": "markdown",
   "metadata": {},
   "source": [
    "Crie uma função que retorne o grau de um vértice arbitrário"
   ]
  },
  {
   "cell_type": "code",
   "execution_count": 339,
   "metadata": {},
   "outputs": [],
   "source": [
    "def grau(vertice):\n",
    "    arestas = g_pb.A.values()\n",
    "    no = vertice\n",
    "    print(\" O grau do vertice \" + no + \" é:\")\n",
    "    grau = 0\n",
    "\n",
    "    for j in arestas:\n",
    "        p = j\n",
    "        if no == p[0] and p[0] != p[2]:\n",
    "            grau += 1\n",
    "\n",
    "        if no == p[2] and p[2] != p[0]:\n",
    "            grau += 1\n",
    "\n",
    "    return grau"
   ]
  },
  {
   "cell_type": "code",
   "execution_count": 340,
   "metadata": {},
   "outputs": [
    {
     "name": "stdout",
     "output_type": "stream",
     "text": [
      " O grau do vertice C é:\n"
     ]
    },
    {
     "data": {
      "text/plain": [
       "7"
      ]
     },
     "execution_count": 340,
     "metadata": {},
     "output_type": "execute_result"
    }
   ],
   "source": [
    "#Retorne o grau de um vértice qualquer\n",
    "grau('C')"
   ]
  },
  {
   "cell_type": "markdown",
   "metadata": {},
   "source": [
    "# 8. Arestas Incidentes\n",
    "Crie uma função que retorne as arestas incidentes sobre um vértice N arbitrário"
   ]
  },
  {
   "cell_type": "code",
   "execution_count": 337,
   "metadata": {},
   "outputs": [],
   "source": [
    "def arestas_sobre_vertice(self, vertice):\n",
    "    \n",
    "    arestas = self.A.values()\n",
    "    no = vertice\n",
    "    chave = self.A.keys()\n",
    "    p = []\n",
    "    incidente = \" \"\n",
    "    contador = 0\n",
    "\n",
    "    for i in chave:\n",
    "        p.append(i)\n",
    "\n",
    "    for j in arestas:\n",
    "        z = j\n",
    "        if no == z[0] and z[0] != z[2]:\n",
    "            incidente += \"{\"\n",
    "            incidente += p[contador]\n",
    "            incidente += \"}: \"\n",
    "            incidente += z\n",
    "            incidente += \"\\n\"\n",
    "\n",
    "        if no == z[2] and z[2] != z[0]:\n",
    "            incidente += \"{\"\n",
    "            incidente += p[contador]\n",
    "            incidente += \"}: \"\n",
    "            incidente += z\n",
    "            incidente += \"\\n \"\n",
    "\n",
    "        contador += 1\n",
    "\n",
    "    return incidente"
   ]
  },
  {
   "cell_type": "code",
   "execution_count": 338,
   "metadata": {},
   "outputs": [
    {
     "name": "stdout",
     "output_type": "stream",
     "text": [
      " {a1}: J-C\n",
      "\n"
     ]
    }
   ],
   "source": [
    "#Exiba as arestas que inicidem num vértice qualquer\n",
    "print(arestas_sobre_vertice(g_pb,'J'))"
   ]
  },
  {
   "cell_type": "markdown",
   "metadata": {},
   "source": [
    "# 9. Grafos completos\n",
    "Um grafo é dito completo  se ele não possui laços nem arestas paralelas além de todo vértice ser adjacente a todos os outros vértices."
   ]
  },
  {
   "cell_type": "code",
   "execution_count": 393,
   "metadata": {},
   "outputs": [],
   "source": [
    "def separador_vertice(arestas):\n",
    "    \n",
    "    adjacente = []\n",
    "    arestas = g_p.A.values()\n",
    "    \n",
    "\n",
    "    for j in arestas:\n",
    "        p = j\n",
    "\n",
    "        if (p[0] != p[2]) and p[0] not in adjacente:\n",
    "            adjacente.append(p[0])\n",
    "        if (p[2]) not in adjacente:\n",
    "            adjacente.append(p[2])\n",
    "\n",
    "    return adjacente\n",
    "\n",
    "def eh_completo(self):\n",
    "\n",
    "    completo = True\n",
    "    v = separador_vertice(self.A.values())\n",
    "\n",
    "    for x in v:\n",
    "        for z in v:\n",
    "            if (x + \"-\" + z) in self.A.values() or (z + \"-\" + x) in self.A.values():\n",
    "                completo = True\n",
    "            elif x != z:\n",
    "                completo = False\n",
    "                break\n",
    "    return completo"
   ]
  },
  {
   "cell_type": "code",
   "execution_count": 406,
   "metadata": {},
   "outputs": [
    {
     "name": "stdout",
     "output_type": "stream",
     "text": [
      "True\n",
      "False\n"
     ]
    }
   ],
   "source": [
    "#imprima um grafo completo de teste \n",
    "g_p = Grafo(['J', 'C', 'E', 'P'], {'a1':'J-C', 'a3':'J-E', 'a4':'J-P', 'a6':'C-E', 'a7':'C-P', 'a8':'E-P'})\n",
    "print(eh_completo(g_p))\n",
    "\n",
    "#imprima o grafo da Paríba\n",
    "print(eh_completo(g_pb))"
   ]
  }
 ],
 "metadata": {
  "kernelspec": {
   "display_name": "Python 3",
   "language": "python",
   "name": "python3"
  },
  "language_info": {
   "codemirror_mode": {
    "name": "ipython",
    "version": 3
   },
   "file_extension": ".py",
   "mimetype": "text/x-python",
   "name": "python",
   "nbconvert_exporter": "python",
   "pygments_lexer": "ipython3",
   "version": "3.7.4"
  }
 },
 "nbformat": 4,
 "nbformat_minor": 2
}
