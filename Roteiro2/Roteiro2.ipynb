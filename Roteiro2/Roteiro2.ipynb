{
 "cells": [
  {
   "cell_type": "markdown",
   "metadata": {},
   "source": [
    "## Roteiro 2\n",
    "#### por Iury e Eliel"
   ]
  },
  {
   "cell_type": "markdown",
   "metadata": {},
   "source": [
    "Busca em Profundidade\n",
    "\n",
    "Usando a biblioteca de Grafos que vimos anteriormente implemente a busca em profundidade. No final, sua busca deve atender aos seguintes requisitos:\n",
    "\n",
    "Para um Grafo não direcionado:\n",
    "Retornar a árvore DFS, representada por meio de uma lista que indica a ordem de como os vértices e arestas foram percorridos.\n",
    "A sua função terá que receber como parâmetro qual o vértice será usado como raiz da DFS\n",
    "\n",
    "Exemplos:\n",
    "\n",
    "Por exemplo, para o grafo da Paraíba algumas das respostas possíveis (com raiz no vértice “J”) seriam:\n",
    "['J', 'a1', 'C', 'a2', 'E', 'a4', 'P', 'a6', 'M', 'a8', 'T', 'a9', 'Z']\n",
    "['J', 'a1', 'C', 'a3', 'E', 'a5', 'P', 'a6', 'M', 'a8', 'T', 'a9', 'Z']\n",
    "\n",
    "Para o seguinte Grafo:\n"
   ]
  },
  {
   "cell_type": "markdown",
   "metadata": {},
   "source": [
    "![alt text](image/grafoRoteiro2.png\\\"grafoRoteiro2\\\")"
   ]
  },
  {
   "cell_type": "code",
   "execution_count": 62,
   "metadata": {},
   "outputs": [],
   "source": [
    "#Importe as bibliotecas necessárias \n",
    "\n",
    "from grafo2 import Grafo"
   ]
  },
  {
   "cell_type": "code",
   "execution_count": 63,
   "metadata": {},
   "outputs": [],
   "source": [
    "def vertices_nao_adjacentes(self):\n",
    "    lista_de_valores = self.A.values()\n",
    "    resultado = []\n",
    "    for i in self.N:\n",
    "         for j in self.N:\n",
    "            indo = '{}-{}'.format(i, j)\n",
    "            vindo = '{}-{}'.format(j, i)\n",
    "            if indo not in lista_de_valores and vindo not in lista_de_valores:\n",
    "                resultado.append(indo)\n",
    "    return resultado \n"
   ]
  },
  {
   "cell_type": "code",
   "execution_count": 64,
   "metadata": {},
   "outputs": [],
   "source": [
    "\n",
    "def arestas_sobre_vertice(self,vertice):\n",
    "    resultado = []\n",
    "    for i in self.A.keys():\n",
    "        aresta = self.A.get(i)\n",
    "        a1, a2 = aresta.split('-')\n",
    "        if a1 == vertice or a2 == vertice:\n",
    "             resultado.append(i)\n",
    "    return resultado"
   ]
  },
  {
   "cell_type": "code",
   "execution_count": 65,
   "metadata": {},
   "outputs": [],
   "source": [
    "def vertices_adjacentes(self, vertice):\n",
    "    resultado = []\n",
    "    arestas_sobre_vertice = self.arestas_sobre_vertice(vertice)\n",
    "    for i in range(0, len(arestas_sobre_vertice)):\n",
    "        resultado.append(self.A.get(arestas_sobre_vertice[i]))\n",
    "        i1, i2 = resultado[i].split('-')\n",
    "        if i1 == vertice:\n",
    "            resultado[i] = i2\n",
    "        elif i2 == vertice:\n",
    "            resultado[i] = i1\n",
    "    return resultado"
   ]
  },
  {
   "cell_type": "code",
   "execution_count": 66,
   "metadata": {},
   "outputs": [],
   "source": [
    "\n",
    "def dfs(self,vertice):\n",
    "    retorno = [vertice]\n",
    "    return self.recursao(vertice,retorno)"
   ]
  },
  {
   "cell_type": "code",
   "execution_count": 67,
   "metadata": {},
   "outputs": [],
   "source": [
    "def recursao(self, vertice, retorno):\n",
    "    arestas_sobre_vertice = self.arestas_sobre_vertice(vertice)\n",
    "    vertices_adjacentes = self.vertices_adjacentes(vertice)\n",
    "    for i in range(0, len(vertices_adjacentes)):\n",
    "            if vertices_adjacentes[i] not in retorno:\n",
    "                retorno.append(arestas_sobre_vertice[i])\n",
    "                retorno.append(vertices_adjacentes[i])\n",
    "                retorno = self.recursao(vertices_adjacentes[i], retorno)\n",
    "    return retorno"
   ]
  },
  {
   "cell_type": "code",
   "execution_count": 68,
   "metadata": {},
   "outputs": [],
   "source": [
    "g = Grafo(['A', 'B', 'C', 'D', 'E', 'F', 'G', 'H', 'I', 'J', 'K',], \n",
    "             {'a1':'A-B', 'a2':'A-G', 'a3':'A-J', 'a4':'G-K', 'a5':'K-J', 'a6':'G-J', 'a7':'J-I', 'a8':'I-G', 'a9':'G-H', 'a10':'H-F',  'a11':'F-B', 'a12':'B-G', 'a13':'B-C', 'a14':'C-D', 'a15':'D-E', 'a16':'D-B', 'a17':'E-B'})"
   ]
  },
  {
   "cell_type": "markdown",
   "metadata": {},
   "source": [
    "## TESTES"
   ]
  },
  {
   "cell_type": "markdown",
   "metadata": {},
   "source": [
    "__1. Função vertices não adjacentes__"
   ]
  },
  {
   "cell_type": "code",
   "execution_count": 74,
   "metadata": {},
   "outputs": [
    {
     "data": {
      "text/plain": [
       "['A-A',\n",
       " 'A-C',\n",
       " 'A-D',\n",
       " 'A-E',\n",
       " 'A-F',\n",
       " 'A-H',\n",
       " 'A-I',\n",
       " 'A-K',\n",
       " 'B-B',\n",
       " 'B-H',\n",
       " 'B-I',\n",
       " 'B-J',\n",
       " 'B-K',\n",
       " 'C-A',\n",
       " 'C-C',\n",
       " 'C-E',\n",
       " 'C-F',\n",
       " 'C-G',\n",
       " 'C-H',\n",
       " 'C-I',\n",
       " 'C-J',\n",
       " 'C-K',\n",
       " 'D-A',\n",
       " 'D-D',\n",
       " 'D-F',\n",
       " 'D-G',\n",
       " 'D-H',\n",
       " 'D-I',\n",
       " 'D-J',\n",
       " 'D-K',\n",
       " 'E-A',\n",
       " 'E-C',\n",
       " 'E-E',\n",
       " 'E-F',\n",
       " 'E-G',\n",
       " 'E-H',\n",
       " 'E-I',\n",
       " 'E-J',\n",
       " 'E-K',\n",
       " 'F-A',\n",
       " 'F-C',\n",
       " 'F-D',\n",
       " 'F-E',\n",
       " 'F-F',\n",
       " 'F-G',\n",
       " 'F-I',\n",
       " 'F-J',\n",
       " 'F-K',\n",
       " 'G-C',\n",
       " 'G-D',\n",
       " 'G-E',\n",
       " 'G-F',\n",
       " 'G-G',\n",
       " 'H-A',\n",
       " 'H-B',\n",
       " 'H-C',\n",
       " 'H-D',\n",
       " 'H-E',\n",
       " 'H-H',\n",
       " 'H-I',\n",
       " 'H-J',\n",
       " 'H-K',\n",
       " 'I-A',\n",
       " 'I-B',\n",
       " 'I-C',\n",
       " 'I-D',\n",
       " 'I-E',\n",
       " 'I-F',\n",
       " 'I-H',\n",
       " 'I-I',\n",
       " 'I-K',\n",
       " 'J-B',\n",
       " 'J-C',\n",
       " 'J-D',\n",
       " 'J-E',\n",
       " 'J-F',\n",
       " 'J-H',\n",
       " 'J-J',\n",
       " 'K-A',\n",
       " 'K-B',\n",
       " 'K-C',\n",
       " 'K-D',\n",
       " 'K-E',\n",
       " 'K-F',\n",
       " 'K-H',\n",
       " 'K-I',\n",
       " 'K-K']"
      ]
     },
     "execution_count": 74,
     "metadata": {},
     "output_type": "execute_result"
    }
   ],
   "source": [
    "vertices_nao_adjacentes(g)"
   ]
  },
  {
   "cell_type": "markdown",
   "metadata": {},
   "source": [
    "__2. Função arestas sobre o vertice__"
   ]
  },
  {
   "cell_type": "code",
   "execution_count": 75,
   "metadata": {},
   "outputs": [
    {
     "data": {
      "text/plain": [
       "['a1', 'a2', 'a3']"
      ]
     },
     "execution_count": 75,
     "metadata": {},
     "output_type": "execute_result"
    }
   ],
   "source": [
    "arestas_sobre_vertice(g,'A')"
   ]
  },
  {
   "cell_type": "markdown",
   "metadata": {},
   "source": [
    "__3.Função vertices adjacentes__"
   ]
  },
  {
   "cell_type": "code",
   "execution_count": 76,
   "metadata": {},
   "outputs": [
    {
     "data": {
      "text/plain": [
       "['B', 'G', 'J']"
      ]
     },
     "execution_count": 76,
     "metadata": {},
     "output_type": "execute_result"
    }
   ],
   "source": [
    "vertices_adjacentes(g,'A')"
   ]
  },
  {
   "cell_type": "markdown",
   "metadata": {},
   "source": [
    "__4. Função busca em profundidade__"
   ]
  },
  {
   "cell_type": "code",
   "execution_count": 77,
   "metadata": {},
   "outputs": [
    {
     "name": "stdout",
     "output_type": "stream",
     "text": [
      "['A', 'a1', 'B', 'a11', 'F', 'a10', 'H', 'a9', 'G', 'a4', 'K', 'a5', 'J', 'a7', 'I', 'a13', 'C', 'a14', 'D', 'a15', 'E']\n"
     ]
    }
   ],
   "source": [
    "print(dfs(g,'A'))"
   ]
  }
 ],
 "metadata": {
  "kernelspec": {
   "display_name": "Python 3",
   "language": "python",
   "name": "python3"
  },
  "language_info": {
   "codemirror_mode": {
    "name": "ipython",
    "version": 3
   },
   "file_extension": ".py",
   "mimetype": "text/x-python",
   "name": "python",
   "nbconvert_exporter": "python",
   "pygments_lexer": "ipython3",
   "version": "3.7.4"
  }
 },
 "nbformat": 4,
 "nbformat_minor": 2
}
