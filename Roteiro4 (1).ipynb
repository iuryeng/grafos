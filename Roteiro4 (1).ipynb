{
 "cells": [
  {
   "cell_type": "markdown",
   "metadata": {},
   "source": [
    "# Roteiro 4: Estudo da Martiz de Adjacência\n",
    "por: Iury Coelho\n"
   ]
  },
  {
   "cell_type": "markdown",
   "metadata": {},
   "source": [
    "Este notebook faz um estudo sobre a matriz de adjacencia implementada para grafos construidos em python."
   ]
  },
  {
   "cell_type": "markdown",
   "metadata": {},
   "source": [
    "## 1. Entendendo a matriz de adjacência."
   ]
  },
  {
   "cell_type": "markdown",
   "metadata": {},
   "source": [
    "Se G é um grafo com um conjunto de vertices dados por N = {1,2,3,4,...,n}, sua matriz de adjacência é a matriz n x n cujo elemento ij é o número de arestas ligando o vertice i ao vértice J. Para grafos não dirigidos aij=1 se (vi,vj) pertence a N e aij=0 caso contrário. "
   ]
  },
  {
   "cell_type": "markdown",
   "metadata": {},
   "source": [
    "## 2. Desenhando o grafo da Paraiba com a biblioteca networkX."
   ]
  },
  {
   "cell_type": "markdown",
   "metadata": {},
   "source": [
    "Para uma melhor vizualização doa estrutura geométrica do grafo usaremos  a bibliotexa networkX para desenhar o grafo."
   ]
  },
  {
   "cell_type": "code",
   "execution_count": 191,
   "metadata": {},
   "outputs": [],
   "source": [
    "#Importe as bibliotecas necessárias \n",
    "import matplotlib.pyplot as plt\n",
    "import networkx as nx"
   ]
  },
  {
   "cell_type": "code",
   "execution_count": 192,
   "metadata": {},
   "outputs": [],
   "source": [
    "# construa os vértices grafo g\n",
    "g = nx.Graph()\n",
    "g.add_node('J')\n",
    "g.add_node('C')\n",
    "g.add_node('E')\n",
    "g.add_node('P')\n",
    "g.add_node('M')\n",
    "g.add_node('T')\n",
    "g.add_node('Z')\n",
    "\n",
    "\n",
    "# construa as arestas do grafo g\n",
    "\n",
    "g.add_edge('J','C')\n",
    "g.add_edge('C','E')\n",
    "g.add_edge('C','E')\n",
    "g.add_edge('C','P')\n",
    "g.add_edge('C','P')\n",
    "g.add_edge('C','M')\n",
    "g.add_edge('C','T')\n",
    "g.add_edge('M','T')\n",
    "g.add_edge('T','Z')\n",
    "\n"
   ]
  },
  {
   "cell_type": "code",
   "execution_count": 193,
   "metadata": {},
   "outputs": [
    {
     "data": {
      "/image/png": "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\n",
      "text/plain": [
       "<Figure size 432x288 with 1 Axes>"
      ]
     },
     "metadata": {
      "needs_background": "light"
     },
     "output_type": "display_data"
    }
   ],
   "source": [
    "# exiba o desenho do grafo da paraiba\n",
    "plt.figure()\n",
    "nx.draw_networkx(g)\n",
    "plt.show()"
   ]
  },
  {
   "cell_type": "markdown",
   "metadata": {},
   "source": [
    "## 3. Analisando a matriz adjacência para o grafo da Praíba"
   ]
  },
  {
   "cell_type": "markdown",
   "metadata": {},
   "source": [
    " A partir do desenho construido na etapa anterior podemos constatar que para o grafo do roteiro 1 com vertices N={J, C, E, P, M, T, Z} e arestas A={J-C, C-E, C-E, C-P,   C-P, C-M, C-T, M-T, T-Z } devemos esperar uma matriz de adjacência igual a:\n",
    " \n",
    " ![alt text](image/matrizAdjacencia.png\"matrizAjacencia\")"
   ]
  },
  {
   "cell_type": "markdown",
   "metadata": {},
   "source": [
    "## 4. Implementando a matriz de adjacência com a biblioteca grafos.py"
   ]
  },
  {
   "cell_type": "code",
   "execution_count": 195,
   "metadata": {},
   "outputs": [],
   "source": [
    "#importação dos módulos necessários\n",
    "from grafo import Grafo\n",
    "\n",
    "#construção do grafo para o estudo de matriz de adjacencia. Utilizaremos o grafo da paraíba do roteiro 1\n",
    "g = Grafo(['J', 'C', 'E', 'P', 'M', 'T', 'Z'], \n",
    "             {'a1':'J-C', 'a2':'C-E', 'a3':'C-E', 'a4':'C-P', 'a5':'C-P', 'a6':'C-M', 'a7':'C-T', 'a8':'M-T', 'a9':'T-Z'})"
   ]
  },
  {
   "cell_type": "code",
   "execution_count": 196,
   "metadata": {},
   "outputs": [
    {
     "name": "stdout",
     "output_type": "stream",
     "text": [
      "J, C, E, P, M, T, Z\n",
      "J-C, C-E, C-E, C-P, C-P, C-M, C-T, M-T, T-Z\n"
     ]
    }
   ],
   "source": [
    "#imprima o grafo g\n",
    "print(g)"
   ]
  },
  {
   "cell_type": "code",
   "execution_count": 24,
   "metadata": {},
   "outputs": [],
   "source": [
    "#contruindo a função que obtém o local dos vertices\n",
    "def LocalVertice(vertice):\n",
    "    '''\n",
    "           Fornece o indice do vertice\n",
    "    '''\n",
    "    indice_v = {}\n",
    "    for i in range(len(vertice)):\n",
    "        indice_v[i] = vertice[i]\n",
    "    return indice_v"
   ]
  },
  {
   "cell_type": "code",
   "execution_count": 19,
   "metadata": {},
   "outputs": [
    {
     "name": "stdout",
     "output_type": "stream",
     "text": [
      "{0: 'J', 1: 'C', 2: 'E', 3: 'P', 4: 'M', 5: 'T', 6: 'Z'}\n"
     ]
    }
   ],
   "source": [
    "#imoprimindo os local dos vertices do grafo g\n",
    "print(LocalVertice(g.N))"
   ]
  },
  {
   "cell_type": "code",
   "execution_count": 20,
   "metadata": {},
   "outputs": [
    {
     "name": "stdout",
     "output_type": "stream",
     "text": [
      "{0: 'J'}\n"
     ]
    }
   ],
   "source": [
    "#imprimindo o indice de um vértice qualquer\n",
    "print(LocalVertice('J'))"
   ]
  },
  {
   "cell_type": "code",
   "execution_count": 198,
   "metadata": {},
   "outputs": [],
   "source": [
    "def Arestas(aresta):\n",
    "    '''\n",
    "           Fornece a lista de arestas\n",
    "    '''\n",
    "    aresta = aresta.values()\n",
    "    listaA = []\n",
    "    for i in aresta:\n",
    "        listaA.append(i)\n",
    "    return listaA"
   ]
  },
  {
   "cell_type": "code",
   "execution_count": 199,
   "metadata": {},
   "outputs": [
    {
     "name": "stdout",
     "output_type": "stream",
     "text": [
      "['J-C', 'C-E', 'C-E', 'C-P', 'C-P', 'C-M', 'C-T', 'M-T', 'T-Z']\n"
     ]
    }
   ],
   "source": [
    "#imprimeindo a lista de arestas\n",
    "print(Arestas(g.A))"
   ]
  },
  {
   "cell_type": "code",
   "execution_count": 200,
   "metadata": {},
   "outputs": [],
   "source": [
    "def MatrizAdjacencia(localdovertice, arestas):\n",
    "    '''\n",
    "           Fornece uma matriz de adjacencia\n",
    "           recebe os locais do vertice obtido por g.N e a lista de aresta obtido g.A\n",
    "    '''\n",
    "    matrizadjacente = []\n",
    "    #construção da matrizadacente\n",
    "    for i in range(len(localdovertice.keys())):\n",
    "        matrizadjacente.append([])        \n",
    "        for j in range(len(localdovertice.keys())):\n",
    "            matrizadjacente[i].append(arestas.count((\n",
    "                 localdovertice[i] + \"-\" +\n",
    "                 localdovertice[j])) or \n",
    "                 arestas.count((localdovertice[j] + \"-\" + \n",
    "                 localdovertice[i])))\n",
    "            \n",
    "    return matrizadjacente"
   ]
  },
  {
   "cell_type": "code",
   "execution_count": 201,
   "metadata": {},
   "outputs": [
    {
     "name": "stdout",
     "output_type": "stream",
     "text": [
      "MATRIZ ADJACENCIA\n",
      "[[0, 1, 0, 0, 0, 0, 0], [1, 0, 2, 2, 1, 1, 0], [0, 2, 0, 0, 0, 0, 0], [0, 2, 0, 0, 0, 0, 0], [0, 1, 0, 0, 0, 1, 0], [0, 1, 0, 0, 1, 0, 1], [0, 0, 0, 0, 0, 1, 0]]\n"
     ]
    }
   ],
   "source": [
    "print(\"MATRIZ ADJACENCIA\")\n",
    "matrizA = MatrizAdjacencia(LocalVertice(g.N),Arestas(g.A))\n",
    "print(matrizA)\n",
    "\n"
   ]
  },
  {
   "cell_type": "markdown",
   "metadata": {},
   "source": [
    "## 5. Exibindo a representação bidirecional da matriz de adjacência."
   ]
  },
  {
   "cell_type": "code",
   "execution_count": 204,
   "metadata": {},
   "outputs": [
    {
     "data": {
      "text/plain": [
       "[[0, 1, 0, 0, 0, 0, 0],\n",
       " [1, 0, 2, 2, 1, 1, 0],\n",
       " [0, 2, 0, 0, 0, 0, 0],\n",
       " [0, 2, 0, 0, 0, 0, 0],\n",
       " [0, 1, 0, 0, 0, 1, 0],\n",
       " [0, 1, 0, 0, 1, 0, 1],\n",
       " [0, 0, 0, 0, 0, 1, 0]]"
      ]
     },
     "execution_count": 204,
     "metadata": {},
     "output_type": "execute_result"
    }
   ],
   "source": [
    "MatrizAdjacencia(LocalVertice(g.N),Arestas(g.A))\n"
   ]
  },
  {
   "cell_type": "code",
   "execution_count": null,
   "metadata": {},
   "outputs": [],
   "source": []
  }
 ],
 "metadata": {
  "kernelspec": {
   "display_name": "Python 3",
   "language": "python",
   "name": "python3"
  },
  "language_info": {
   "codemirror_mode": {
    "name": "ipython",
    "version": 3
   },
   "file_extension": ".py",
   "mimetype": "text/x-python",
   "name": "python",
   "nbconvert_exporter": "python",
   "pygments_lexer": "ipython3",
   "version": "3.7.4"
  }
 },
 "nbformat": 4,
 "nbformat_minor": 2
}
