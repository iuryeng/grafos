{
 "cells": [
  {
   "cell_type": "markdown",
   "metadata": {},
   "source": [
    "## Roteiro 3 - Aplicações da busca em profundidade\n",
    "#### por Iury Coelho.\n",
    "\n",
    "- Faça uma função para encontrar um ciclo, se houver (Retorne a sequência de vértices e arestas do ciclo ou False se não houver ciclo)\n",
    "\n",
    "- Assinatura da função: def ha_ciclo():\n",
    "\n",
    "- Faça uma função para encontrar um caminho de comprimento n (n passado como parâmetro), se houver. O caminho não pode ter vértices nem arestas repetidas. Assinatura da função: def caminho(n):\n",
    "\n",
    "- Faça uma função para descobrir se um grafo é conexo. Assinatura da função: def conexo():\n",
    "\n",
    "- Dica: Você pode fazer uma função auxiliar que verifica se há um caminho entre 2 vértices. Em seguida, chamar essa função apra todos os pares de vértices do grafo.\n",
    "    Assinatura da função auxiliar:\n",
    "    def caminho_dois_vertices(x, y):\n"
   ]
  },
  {
   "cell_type": "code",
   "execution_count": 1,
   "metadata": {},
   "outputs": [],
   "source": [
    "#Importe as bibliotecas necessárias \n",
    "\n",
    "from grafo3 import Grafo"
   ]
  },
  {
   "cell_type": "code",
   "execution_count": 2,
   "metadata": {},
   "outputs": [],
   "source": [
    "def ha_ciclo(self):\n",
    "        vertice = self.N[0]\n",
    "        retorno = [vertice]\n",
    "        resultado = self.hc_recursao(vertice,retorno)\n",
    "        tem_ciclo = False\n",
    "        ciclo = []\n",
    "        inicio = -1\n",
    "        fim = 0\n",
    "        vertice_inicial = ''\n",
    "        for i in self.N:\n",
    "            contador = 0\n",
    "            for j in resultado:\n",
    "                if i == j:\n",
    "                    contador += 1\n",
    "            if contador >= 2:\n",
    "                vertice_inicial = i\n",
    "                tem_ciclo = True\n",
    "        if(tem_ciclo == False):\n",
    "            return False\n",
    "        else:\n",
    "            for i in range(len(resultado)):\n",
    "                if(resultado[i] == vertice_inicial) and inicio == -1:\n",
    "                    inicio = i\n",
    "                elif(resultado[i] == vertice_inicial) and inicio != -1:\n",
    "                    fim = i\n",
    "                    break\n",
    "            for i in range(inicio, fim+1):\n",
    "                ciclo.append(resultado[i])\n",
    "            return ciclo\n"
   ]
  },
  {
   "cell_type": "code",
   "execution_count": 3,
   "metadata": {},
   "outputs": [],
   "source": [
    "def conexo(self):\n",
    "    for i in self.N:\n",
    "        for j in self.N:\n",
    "            if self.caminho_dois_vertices(i, j) == True:\n",
    "                pass\n",
    "            else:\n",
    "                return False\n",
    "    return True"
   ]
  },
  {
   "cell_type": "code",
   "execution_count": 4,
   "metadata": {},
   "outputs": [],
   "source": [
    "def caminho_dois_vertices(self, x, y):\n",
    "    lista = self.dfs(x)\n",
    "    if x in lista and y in lista:\n",
    "        return True"
   ]
  },
  {
   "cell_type": "markdown",
   "metadata": {},
   "source": [
    "## TESTES"
   ]
  },
  {
   "cell_type": "code",
   "execution_count": 9,
   "metadata": {},
   "outputs": [],
   "source": [
    "g = Grafo(['A', 'B', 'C', 'D', 'E', 'F', 'G', 'H', 'I', 'J', 'K',], \n",
    "             {'a1':'A-B', 'a2':'A-G', 'a3':'A-J', 'a4':'G-K', 'a5':'K-J', 'a6':'G-J', 'a7':'J-I', 'a8':'I-G', 'a9':'G-H', 'a10':'H-F',  'a11':'F-B', 'a12':'B-G', 'a13':'B-C', 'a14':'C-D', 'a15':'D-E', 'a16':'D-B', 'a17':'E-B'})"
   ]
  },
  {
   "cell_type": "code",
   "execution_count": 10,
   "metadata": {},
   "outputs": [
    {
     "data": {
      "text/plain": [
       "['J', 'a5', 'K', 'a4', 'G', 'a6', 'J']"
      ]
     },
     "execution_count": 10,
     "metadata": {},
     "output_type": "execute_result"
    }
   ],
   "source": [
    "ha_ciclo(g)"
   ]
  },
  {
   "cell_type": "code",
   "execution_count": 11,
   "metadata": {},
   "outputs": [
    {
     "data": {
      "text/plain": [
       "True"
      ]
     },
     "execution_count": 11,
     "metadata": {},
     "output_type": "execute_result"
    }
   ],
   "source": [
    "conexo(g)"
   ]
  },
  {
   "cell_type": "code",
   "execution_count": 12,
   "metadata": {},
   "outputs": [
    {
     "data": {
      "text/plain": [
       "True"
      ]
     },
     "execution_count": 12,
     "metadata": {},
     "output_type": "execute_result"
    }
   ],
   "source": [
    "caminho_dois_vertices(g, 'A', 'J')"
   ]
  },
  {
   "cell_type": "code",
   "execution_count": null,
   "metadata": {},
   "outputs": [],
   "source": []
  }
 ],
 "metadata": {
  "kernelspec": {
   "display_name": "Python 3",
   "language": "python",
   "name": "python3"
  },
  "language_info": {
   "codemirror_mode": {
    "name": "ipython",
    "version": 3
   },
   "file_extension": ".py",
   "mimetype": "text/x-python",
   "name": "python",
   "nbconvert_exporter": "python",
   "pygments_lexer": "ipython3",
   "version": "3.7.4"
  }
 },
 "nbformat": 4,
 "nbformat_minor": 2
}
